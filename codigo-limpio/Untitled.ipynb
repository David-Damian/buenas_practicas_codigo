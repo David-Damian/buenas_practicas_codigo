{
 "cells": [
  {
   "cell_type": "code",
   "execution_count": null,
   "id": "5a5bdc60-de0e-4226-9e11-57eb1857f0a5",
   "metadata": {},
   "outputs": [],
   "source": [
    "def cargar_datos():\n",
    "    ''''\n",
    "    Carga de datos de entrenamiento y validación.\n",
    "        \n",
    "    Return:\n",
    "    --------\n",
    "    Dos data frames. \n",
    "    \n",
    "    train_data (pd.DataFrame): Conjunto de datos de entrenamiento.\n",
    "    test_data (pd.DataFrame): Conjunto de datos de prueba.\n",
    "    ''''\n",
    "    train_data = pd.read_csv(\"house-prices-data/train.csv\")\n",
    "    test_data = pd.read_csv(\"house-prices-data/test.csv\")\n",
    "    \n",
    "    return train_data, test_data\n",
    "    "
   ]
  },
  {
   "cell_type": "code",
   "execution_count": null,
   "id": "b522e6bc-7d29-4ee0-8d7e-d46f9fd6a10a",
   "metadata": {},
   "outputs": [],
   "source": [
    "def fill_datos_faltantes(data):\n",
    "    '''\n",
    "    Rellena los datos faltantes en u\n",
    "    '''"
   ]
  }
 ],
 "metadata": {
  "kernelspec": {
   "display_name": "Python 3 (ipykernel)",
   "language": "python",
   "name": "python3"
  },
  "language_info": {
   "codemirror_mode": {
    "name": "ipython",
    "version": 3
   },
   "file_extension": ".py",
   "mimetype": "text/x-python",
   "name": "python",
   "nbconvert_exporter": "python",
   "pygments_lexer": "ipython3",
   "version": "3.10.6"
  }
 },
 "nbformat": 4,
 "nbformat_minor": 5
}
