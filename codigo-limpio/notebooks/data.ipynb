{
 "cells": [
  {
   "cell_type": "code",
   "execution_count": null,
   "id": "5a5bdc60-de0e-4226-9e11-57eb1857f0a5",
   "metadata": {},
   "outputs": [],
   "source": [
    "#Definimos una función para hacer la carga de datos\n",
    "def cargar_datos():\n",
    "    ''''\n",
    "    Carga de datos de entrenamiento y validación.\n",
    "    Si DROP==TRUE, \n",
    "        \n",
    "    Return:\n",
    "    --------\n",
    "    Dos data frames. \n",
    "    \n",
    "    train_data (pd.DataFrame): Conjunto de datos de entrenamiento.\n",
    "    test_data (pd.DataFrame): Conjunto de datos de prueba.\n",
    "    ''''\n",
    "    # Conjunto de entrenamiento\n",
    "    train_data = pd.read_csv(\"house-prices-data/train.csv\")\n",
    "    #Conjunto de prueba\n",
    "    test_data = pd.read_csv(\"house-prices-data/test.csv\")\n",
    "    \n",
    "    return train_data, test_data\n"
   ]
  },
  {
   "cell_type": "code",
   "execution_count": null,
   "id": "b522e6bc-7d29-4ee0-8d7e-d46f9fd6a10a",
   "metadata": {},
   "outputs": [],
   "source": [
    "def fill_datos_faltantes(data1=train_data, data2=test_data):\n",
    "    '''\n",
    "    Rellena los datos faltantes en el conjunto de entrenamiento y prueba.\n",
    "\n",
    "    Args:\n",
    "    -----\n",
    "    data1(pd.DataFrame) :    Conjunto de entrenamiento o prueba.\n",
    "    data2(pd.DataFrame) :    Conjunto de entrenamiento o prueba.\n",
    "\n",
    "    Return:\n",
    "    ---\n",
    "    '''\n",
    "    variables_incompletas=['FireplaceQu', 'BsmtQual', 'BsmtCond', 'BsmtFinType1', 'BsmtFinType1', 'BsmtFinType2']\n",
    "    #Rellenar los datos NA con No\n",
    "    for var in variables_incompletas:\n",
    "        data[var].fillna(\"No\", inplace=True)\n",
    "\n",
    "    # Rellena los datos faltantes de variables float o int con la media o moda.\n",
    "    for col in data.columns:\n",
    "        if((data[col].dtype == 'float64') or (data[col].dtype == 'int64')):\n",
    "            data[col].fillna(data[col].mean(), inplace=True)\n",
    "        else:\n",
    "             data[col].fillna(data[col].mode()[0], inplace=True)"
   ]
  },
  {
   "cell_type": "code",
   "execution_count": null,
   "id": "6abef199",
   "metadata": {},
   "outputs": [],
   "source": [
    "def drop_variables(variables):\n",
    "    ''''\n",
    "    Remueve variables en el conjunto de datos de entrada.\n",
    "\n",
    "    Args:\n",
    "    -----\n",
    "    variables(list): Lista de variables que se desean\n",
    "    ''''\n"
   ]
  }
 ],
 "metadata": {
  "kernelspec": {
   "display_name": "Python 3 (ipykernel)",
   "language": "python",
   "name": "python3"
  },
  "language_info": {
   "codemirror_mode": {
    "name": "ipython",
    "version": 3
   },
   "file_extension": ".py",
   "mimetype": "text/x-python",
   "name": "python",
   "nbconvert_exporter": "python",
   "pygments_lexer": "ipython3",
   "version": "3.10.6"
  }
 },
 "nbformat": 4,
 "nbformat_minor": 5
}
